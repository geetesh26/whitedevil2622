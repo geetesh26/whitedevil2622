{
 "cells": [
  {
   "cell_type": "code",
   "execution_count": 1,
   "metadata": {},
   "outputs": [],
   "source": [
    "firstname='harsha'\n",
    "lastname='sai'\n",
    "fullname= firstname + lastname"
   ]
  },
  {
   "cell_type": "code",
   "execution_count": 2,
   "metadata": {},
   "outputs": [
    {
     "name": "stdout",
     "output_type": "stream",
     "text": [
      "enter your roll number:7\n"
     ]
    }
   ],
   "source": [
    "grade= 12\n",
    "rollnumber=input('enter your roll number:')"
   ]
  },
  {
   "cell_type": "code",
   "execution_count": 3,
   "metadata": {},
   "outputs": [
    {
     "name": "stdout",
     "output_type": "stream",
     "text": [
      "enter your score:8\n",
      "enter your score:7\n",
      "enter your score:8\n",
      "enter your score:10\n",
      "enter your score:10\n",
      "enter your score:10\n",
      "enter your score:9\n",
      "enter your score:10\n"
     ]
    }
   ],
   "source": [
    "firstlanguage=int(input('enter your score:'))\n",
    "secondlanguage=int(input('enter your score:'))\n",
    "thirdlanguage=int(input('enter your score:'))\n",
    "mathamatics=int(input('enter your score:'))\n",
    "science=int(input('enter your score:'))\n",
    "civics=int(input('enter your score:'))\n",
    "history=int(input('enter your score:'))\n",
    "geography=int(input('enter your score:'))"
   ]
  },
  {
   "cell_type": "code",
   "execution_count": 4,
   "metadata": {},
   "outputs": [],
   "source": [
    "totalmarks = firstlanguage+ secondlanguage + thirdlanguage + mathamatics + science + civics + history + geography"
   ]
  },
  {
   "cell_type": "code",
   "execution_count": 5,
   "metadata": {},
   "outputs": [],
   "source": [
    "averagemarks = totalmarks/8"
   ]
  },
  {
   "cell_type": "code",
   "execution_count": 10,
   "metadata": {},
   "outputs": [
    {
     "name": "stdout",
     "output_type": "stream",
     "text": [
      "student name:- harsha sai\n",
      "student grade:- 12\n",
      "rollnumber:- 7\n",
      "studentscores\n",
      "firstlanguage:- 8 /10\n",
      "secondlanguage:- 7 /10\n",
      "thirdlanduage:- 8 /10\n",
      "mathamatics:- 10 /10\n",
      "science:- 10 /10\n",
      "civics:- 10 /10\n",
      "history:- 9 /10\n",
      "geography:- 10 /10\n",
      "totalmarks:- 72 /80\n",
      "averagemarks:- 9.0\n"
     ]
    }
   ],
   "source": [
    "print(\"student name:-\",fullname)\n",
    "print(\"student grade:-\",grade)\n",
    "print(\"rollnumber:-\",rollnumber)\n",
    "print('studentscores')\n",
    "print(\"firstlanguage:-\",firstlanguage,\"/10\")\n",
    "print('secondlanguage:-',secondlanguage,\"/10\")\n",
    "print(\"thirdlanduage:-\",thirdlanguage,\"/10\")\n",
    "print(\"mathamatics:-\",mathamatics,\"/10\")\n",
    "print(\"science:-\",science,\"/10\")\n",
    "print(\"civics:-\",civics,\"/10\")\n",
    "print('history:-',history,\"/10\")\n",
    "print(\"geography:-\",geography,\"/10\")\n",
    "print(\"totalmarks:-\",totalmarks,\"/80\")\n",
    "print(\"averagemarks:-\",averagemarks)"
   ]
  },
  {
   "cell_type": "code",
   "execution_count": null,
   "metadata": {},
   "outputs": [],
   "source": []
  },
  {
   "cell_type": "code",
   "execution_count": null,
   "metadata": {},
   "outputs": [],
   "source": []
  },
  {
   "cell_type": "code",
   "execution_count": null,
   "metadata": {},
   "outputs": [],
   "source": []
  }
 ],
 "metadata": {
  "kernelspec": {
   "display_name": "Python 3",
   "language": "python",
   "name": "python3"
  },
  "language_info": {
   "codemirror_mode": {
    "name": "ipython",
    "version": 3
   },
   "file_extension": ".py",
   "mimetype": "text/x-python",
   "name": "python",
   "nbconvert_exporter": "python",
   "pygments_lexer": "ipython3",
   "version": "3.8.3"
  }
 },
 "nbformat": 4,
 "nbformat_minor": 4
}
